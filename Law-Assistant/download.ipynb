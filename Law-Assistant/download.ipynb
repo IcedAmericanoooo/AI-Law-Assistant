{
 "cells": [
  {
   "cell_type": "markdown",
   "id": "23ab8df6",
   "metadata": {},
   "source": [
    "# 从modelscope下载模型"
   ]
  },
  {
   "cell_type": "code",
   "execution_count": null,
   "id": "23006b79",
   "metadata": {},
   "outputs": [],
   "source": [
    "from modelscope import snapshot_download\n",
    "model_dir = snapshot_download(model_id = 'Qwen/Qwen-1_8B-Chat-Int8', cache_dir = \"./pretrained_model\")"
   ]
  }
 ],
 "metadata": {
  "kernelspec": {
   "display_name": "base",
   "language": "python",
   "name": "python3"
  },
  "language_info": {
   "codemirror_mode": {
    "name": "ipython",
    "version": 3
   },
   "file_extension": ".py",
   "mimetype": "text/x-python",
   "name": "python",
   "nbconvert_exporter": "python",
   "pygments_lexer": "ipython3",
   "version": "3.9.7"
  }
 },
 "nbformat": 4,
 "nbformat_minor": 5
}
